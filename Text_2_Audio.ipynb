{
 "cells": [
  {
   "cell_type": "code",
   "execution_count": null,
   "id": "d0b2d16d-3e16-43b4-803b-1c085e6182d9",
   "metadata": {
    "scrolled": true
   },
   "outputs": [],
   "source": [
    "from gtts import gTTS\n",
    "import os\n",
    "\n",
    "text_to_speak = '''Yes, this world is astonishingly simple and life itself is, too'''\n",
    "\n",
    "language = 'en'  # 'en' for English, you can change it to other supported languages\n",
    "\n",
    "tts.speed = 1.5\n",
    "tts = gTTS(text=text_to_speak, lang=language, slow=False)\n",
    "\n",
    "tts.save(\"output.mp3\")\n",
    "\n",
    "os.system(\"start output.mp3\")  # This command opens the default audio player"
   ]
  }
 ],
 "metadata": {
  "kernelspec": {
   "display_name": "Python 3 (ipykernel)",
   "language": "python",
   "name": "python3"
  },
  "language_info": {
   "codemirror_mode": {
    "name": "ipython",
    "version": 3
   },
   "file_extension": ".py",
   "mimetype": "text/x-python",
   "name": "python",
   "nbconvert_exporter": "python",
   "pygments_lexer": "ipython3",
   "version": "3.11.5"
  }
 },
 "nbformat": 4,
 "nbformat_minor": 5
}
