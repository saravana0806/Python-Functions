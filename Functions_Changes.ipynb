{
 "cells": [
  {
   "cell_type": "code",
   "execution_count": null,
   "id": "56c508a6-7ff4-4555-816d-76c3d0e74b75",
   "metadata": {},
   "outputs": [],
   "source": []
  },
  {
   "cell_type": "code",
   "execution_count": null,
   "id": "4cb1b27a-73eb-4f03-87bc-5bcbe0431416",
   "metadata": {},
   "outputs": [],
   "source": []
  },
  {
   "cell_type": "markdown",
   "id": "3447b84e-6738-4f69-b5ce-4486b1af8a9c",
   "metadata": {},
   "source": [
    "#### String Accessing Elements"
   ]
  },
  {
   "cell_type": "markdown",
   "id": "edf916bb-dff7-49e7-8c05-4c21f299399f",
   "metadata": {},
   "source": [
    "#### \\n: Newline"
   ]
  },
  {
   "cell_type": "code",
   "execution_count": 25,
   "id": "f7eaa512-6f62-4cf1-a48a-a66d624d90fe",
   "metadata": {},
   "outputs": [
    {
     "name": "stdout",
     "output_type": "stream",
     "text": [
      "This is the first line.\n",
      "This is the second line.\n"
     ]
    }
   ],
   "source": [
    "print(\"This is the first line.\\nThis is the second line.\")"
   ]
  },
  {
   "cell_type": "markdown",
   "id": "fa5a6353-26ce-4ea8-b821-006def844fb5",
   "metadata": {},
   "source": [
    "#### \\t: Tab"
   ]
  },
  {
   "cell_type": "code",
   "execution_count": 27,
   "id": "73e9c68e-6714-4ec5-8096-1bd225b31979",
   "metadata": {},
   "outputs": [
    {
     "name": "stdout",
     "output_type": "stream",
     "text": [
      "First\tSecond\tThird\n"
     ]
    }
   ],
   "source": [
    "print(\"First\\tSecond\\tThird\")"
   ]
  },
  {
   "cell_type": "markdown",
   "id": "755bd34c-9641-4ee8-99fb-df99702bd2e5",
   "metadata": {},
   "source": [
    "####  \\' and \\\": Single and Double Quotes"
   ]
  },
  {
   "cell_type": "code",
   "execution_count": 68,
   "id": "4d49b95d-247e-42ae-984e-735913bc866b",
   "metadata": {},
   "outputs": [
    {
     "name": "stdout",
     "output_type": "stream",
     "text": [
      "This is a single-quoted string with an escaped single quote: 'hey\n",
      "This is a double-quoted string with an escaped double quote: \"Hey\n"
     ]
    }
   ],
   "source": [
    "print('This is a single-quoted string with an escaped single quote: \\'hey')\n",
    "print(\"This is a double-quoted string with an escaped double quote: \\\"Hey\")"
   ]
  },
  {
   "cell_type": "markdown",
   "id": "53ad443a-6730-429e-b3cb-970f9208c5f6",
   "metadata": {},
   "source": [
    "#### \\\\: Backslash"
   ]
  },
  {
   "cell_type": "code",
   "execution_count": 51,
   "id": "5f077b2e-614d-4288-8c0d-767520d36378",
   "metadata": {},
   "outputs": [
    {
     "name": "stdout",
     "output_type": "stream",
     "text": [
      "This is a backslash: \\\n"
     ]
    }
   ],
   "source": [
    "print(\"This is a backslash: \\\\\")"
   ]
  },
  {
   "cell_type": "code",
   "execution_count": 54,
   "id": "b0e00b71-eb33-4676-a60f-621d2e1be026",
   "metadata": {},
   "outputs": [
    {
     "name": "stdout",
     "output_type": "stream",
     "text": [
      "He said, \"Hello!\"\n",
      "She's happy.\n"
     ]
    }
   ],
   "source": [
    "print(\"He said, \\\"Hello!\\\"\")  \n",
    "print('She\\'s happy.')  "
   ]
  },
  {
   "cell_type": "markdown",
   "id": "ab55b191-c8e8-4660-8222-587ae22436aa",
   "metadata": {},
   "source": [
    "#### \\r: Carriage Return"
   ]
  },
  {
   "cell_type": "code",
   "execution_count": 49,
   "id": "f80ac538-3ce5-46b3-ba70-08eceddf0bf9",
   "metadata": {},
   "outputs": [
    {
     "name": "stdout",
     "output_type": "stream",
     "text": [
      "Worldthis\n"
     ]
    }
   ],
   "source": [
    "print(\"Hellothis\\rWorld\")"
   ]
  },
  {
   "cell_type": "markdown",
   "id": "4ec4809f-6768-4e79-befe-6c18e90fd66e",
   "metadata": {},
   "source": [
    "#### \\b: Backspace"
   ]
  },
  {
   "cell_type": "code",
   "execution_count": 61,
   "id": "76f30681-7c1f-4634-b4b2-227b420f17db",
   "metadata": {},
   "outputs": [
    {
     "name": "stdout",
     "output_type": "stream",
     "text": [
      "BacksdSpace\n"
     ]
    }
   ],
   "source": [
    "print(\"Backsds\\bSpace\")"
   ]
  },
  {
   "cell_type": "code",
   "execution_count": 63,
   "id": "1504ce7a-07e2-4c53-9a1a-de69524d4356",
   "metadata": {},
   "outputs": [
    {
     "name": "stdout",
     "output_type": "stream",
     "text": [
      "Backspace example: B\n"
     ]
    }
   ],
   "source": [
    "print(\"Backspace example: #\\bB\")"
   ]
  },
  {
   "cell_type": "code",
   "execution_count": null,
   "id": "ebc2d55b-0ec2-491f-83d7-6d34352012ba",
   "metadata": {},
   "outputs": [],
   "source": []
  },
  {
   "cell_type": "code",
   "execution_count": null,
   "id": "f6536e94-60a0-4261-b84b-280eeed2c1e9",
   "metadata": {},
   "outputs": [],
   "source": []
  },
  {
   "cell_type": "code",
   "execution_count": null,
   "id": "7e66e7b9-28ef-4b64-80fe-0955b3f99b88",
   "metadata": {},
   "outputs": [],
   "source": []
  },
  {
   "cell_type": "markdown",
   "id": "7003f5f8-87ae-454c-8204-912777803d69",
   "metadata": {},
   "source": [
    "#### Pass Break & Continue"
   ]
  },
  {
   "cell_type": "code",
   "execution_count": 9,
   "id": "c88983c2-77a5-4d5e-b7ac-6d302f469815",
   "metadata": {},
   "outputs": [
    {
     "name": "stdout",
     "output_type": "stream",
     "text": [
      "0\n",
      "1\n",
      "2\n",
      "4\n"
     ]
    }
   ],
   "source": [
    "for i in range(5):\n",
    "    if i == 3:\n",
    "        pass \n",
    "    else:\n",
    "        print(i)"
   ]
  },
  {
   "cell_type": "code",
   "execution_count": 5,
   "id": "67e4022e-a186-4e0b-a327-e2db6790a1ac",
   "metadata": {},
   "outputs": [
    {
     "name": "stdout",
     "output_type": "stream",
     "text": [
      "0\n",
      "1\n",
      "2\n"
     ]
    }
   ],
   "source": [
    "for i in range(5):\n",
    "    if i == 3:\n",
    "        break  # Exits the loop when i = 3\n",
    "    else:\n",
    "        print(i)"
   ]
  },
  {
   "cell_type": "code",
   "execution_count": 6,
   "id": "fa4e2901-f5d8-4a53-842e-5e569f969f2e",
   "metadata": {},
   "outputs": [
    {
     "name": "stdout",
     "output_type": "stream",
     "text": [
      "0\n",
      "1\n",
      "2\n",
      "4\n"
     ]
    }
   ],
   "source": [
    "for i in range(5):\n",
    "    if i == 3:\n",
    "        continue  # Skips the rest of the loop for i = 3\n",
    "    else:\n",
    "        print(i)\n"
   ]
  },
  {
   "cell_type": "code",
   "execution_count": null,
   "id": "038284f2-0a30-4f8c-8d51-964bcb28f681",
   "metadata": {},
   "outputs": [],
   "source": []
  },
  {
   "cell_type": "code",
   "execution_count": null,
   "id": "7bf7857f-dc96-4400-b0d7-24a7daf14dcd",
   "metadata": {},
   "outputs": [],
   "source": []
  },
  {
   "cell_type": "code",
   "execution_count": null,
   "id": "ff5d8b3e-aaaf-49c0-ae4f-df5303288afc",
   "metadata": {},
   "outputs": [],
   "source": []
  },
  {
   "cell_type": "code",
   "execution_count": null,
   "id": "3316bf14-2a84-4cad-896d-48f048a604ad",
   "metadata": {},
   "outputs": [],
   "source": []
  },
  {
   "cell_type": "markdown",
   "id": "1f5cb112-0394-4f85-9d5b-4fd2376e64c6",
   "metadata": {},
   "source": [
    "#### Local Global Variables"
   ]
  },
  {
   "cell_type": "code",
   "execution_count": 7,
   "id": "66ec14c1-3fdb-4af0-9d95-a4174637cca0",
   "metadata": {},
   "outputs": [
    {
     "name": "stdout",
     "output_type": "stream",
     "text": [
      "Inside function: 15\n",
      "Outside function: 5\n"
     ]
    }
   ],
   "source": [
    "def modify_value(x):\n",
    "    x = x + 10\n",
    "    print(\"Inside function:\", x)\n",
    "\n",
    "value = 5\n",
    "modify_value(value)\n",
    "print(\"Outside function:\", value)"
   ]
  },
  {
   "cell_type": "code",
   "execution_count": 8,
   "id": "be0d7db3-428f-4c9c-bf9b-e623a4f586a8",
   "metadata": {},
   "outputs": [
    {
     "name": "stdout",
     "output_type": "stream",
     "text": [
      "Inside function: [1, 2, 3, 10]\n",
      "Outside function: [1, 2, 3, 10]\n"
     ]
    }
   ],
   "source": [
    "def modify_list(lst):\n",
    "    lst.append(10)\n",
    "    print(\"Inside function:\", lst)\n",
    "\n",
    "my_list = [1, 2, 3]\n",
    "modify_list(my_list)\n",
    "print(\"Outside function:\", my_list)"
   ]
  },
  {
   "cell_type": "code",
   "execution_count": 10,
   "id": "2cebe676-3c0e-48e6-ba87-47ba58d69d41",
   "metadata": {},
   "outputs": [
    {
     "name": "stdout",
     "output_type": "stream",
     "text": [
      "Inside function: 10\n"
     ]
    }
   ],
   "source": [
    "def example_function():\n",
    "    local_var = 10\n",
    "    print(\"Inside function:\", local_var)\n",
    "\n",
    "example_function()\n"
   ]
  },
  {
   "cell_type": "code",
   "execution_count": 11,
   "id": "6ad6f952-e42c-4d95-8c9c-a4059fbbeba4",
   "metadata": {},
   "outputs": [
    {
     "name": "stdout",
     "output_type": "stream",
     "text": [
      "Inside function: 30\n",
      "Outside function: 30\n"
     ]
    }
   ],
   "source": [
    "global_var = 20\n",
    "\n",
    "def modify_global():\n",
    "    global global_var\n",
    "    global_var = 30\n",
    "    print(\"Inside function:\", global_var)\n",
    "\n",
    "modify_global()\n",
    "print(\"Outside function:\", global_var)"
   ]
  }
 ],
 "metadata": {
  "kernelspec": {
   "display_name": "Python 3 (ipykernel)",
   "language": "python",
   "name": "python3"
  },
  "language_info": {
   "codemirror_mode": {
    "name": "ipython",
    "version": 3
   },
   "file_extension": ".py",
   "mimetype": "text/x-python",
   "name": "python",
   "nbconvert_exporter": "python",
   "pygments_lexer": "ipython3",
   "version": "3.11.5"
  }
 },
 "nbformat": 4,
 "nbformat_minor": 5
}
