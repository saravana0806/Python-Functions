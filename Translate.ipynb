{
 "cells": [
  {
   "cell_type": "code",
   "execution_count": 14,
   "id": "7c0ebd11-4969-406b-8e24-cf63ab1f041c",
   "metadata": {
    "scrolled": true
   },
   "outputs": [
    {
     "name": "stdout",
     "output_type": "stream",
     "text": [
      "Requirement already satisfied: translate in c:\\users\\hp\\anaconda3\\lib\\site-packages (3.6.1)\n",
      "Collecting langdetect\n",
      "  Downloading langdetect-1.0.9.tar.gz (981 kB)\n",
      "     ---------------------------------------- 0.0/981.5 kB ? eta -:--:--\n",
      "     ------ ------------------------------- 163.8/981.5 kB 4.8 MB/s eta 0:00:01\n",
      "     ----------- -------------------------- 286.7/981.5 kB 2.5 MB/s eta 0:00:01\n",
      "     ---------------------- --------------- 593.9/981.5 kB 3.4 MB/s eta 0:00:01\n",
      "     ----------------------- -------------- 614.4/981.5 kB 3.2 MB/s eta 0:00:01\n",
      "     --------------------------------- ---- 860.2/981.5 kB 3.2 MB/s eta 0:00:01\n",
      "     -------------------------------------- 981.5/981.5 kB 3.1 MB/s eta 0:00:00\n",
      "  Preparing metadata (setup.py): started\n",
      "  Preparing metadata (setup.py): finished with status 'done'\n",
      "Requirement already satisfied: click in c:\\users\\hp\\anaconda3\\lib\\site-packages (from translate) (8.1.7)\n",
      "Requirement already satisfied: lxml in c:\\users\\hp\\anaconda3\\lib\\site-packages (from translate) (4.9.3)\n",
      "Requirement already satisfied: requests in c:\\users\\hp\\anaconda3\\lib\\site-packages (from translate) (2.31.0)\n",
      "Requirement already satisfied: libretranslatepy==2.1.1 in c:\\users\\hp\\anaconda3\\lib\\site-packages (from translate) (2.1.1)\n",
      "Requirement already satisfied: six in c:\\users\\hp\\anaconda3\\lib\\site-packages (from langdetect) (1.16.0)\n",
      "Requirement already satisfied: colorama in c:\\users\\hp\\anaconda3\\lib\\site-packages (from click->translate) (0.4.6)\n",
      "Requirement already satisfied: charset-normalizer<4,>=2 in c:\\users\\hp\\anaconda3\\lib\\site-packages (from requests->translate) (2.0.4)\n",
      "Requirement already satisfied: idna<4,>=2.5 in c:\\users\\hp\\anaconda3\\lib\\site-packages (from requests->translate) (2.10)\n",
      "Requirement already satisfied: urllib3<3,>=1.21.1 in c:\\users\\hp\\anaconda3\\lib\\site-packages (from requests->translate) (1.26.18)\n",
      "Requirement already satisfied: certifi>=2017.4.17 in c:\\users\\hp\\anaconda3\\lib\\site-packages (from requests->translate) (2023.11.17)\n",
      "Building wheels for collected packages: langdetect\n",
      "  Building wheel for langdetect (setup.py): started\n",
      "  Building wheel for langdetect (setup.py): finished with status 'done'\n",
      "  Created wheel for langdetect: filename=langdetect-1.0.9-py3-none-any.whl size=993253 sha256=b6cba7cc7a83f68447048183e04684dab4f3077e488a6656bdafed99c5716552\n",
      "  Stored in directory: c:\\users\\hp\\appdata\\local\\pip\\cache\\wheels\\0a\\f2\\b2\\e5ca405801e05eb7c8ed5b3b4bcf1fcabcd6272c167640072e\n",
      "Successfully built langdetect\n",
      "Installing collected packages: langdetect\n",
      "Successfully installed langdetect-1.0.9\n",
      "Note: you may need to restart the kernel to use updated packages.\n"
     ]
    }
   ],
   "source": [
    "pip install translate langdetect"
   ]
  },
  {
   "cell_type": "code",
   "execution_count": 24,
   "id": "82b658ec-f8ad-4835-86b9-f61f4b7dfeab",
   "metadata": {},
   "outputs": [],
   "source": [
    "#https://en.wikipedia.org/wiki/List_of_ISO_639_language_codes"
   ]
  },
  {
   "cell_type": "code",
   "execution_count": 30,
   "id": "9a0a7ec7-5ec6-4e1f-b2d6-3dfeb9da434f",
   "metadata": {},
   "outputs": [],
   "source": [
    "from langdetect import detect,detect_langs\n",
    "from translate import Translator"
   ]
  },
  {
   "cell_type": "code",
   "execution_count": 25,
   "id": "5b57950f-d6da-4e37-90d8-11629b071142",
   "metadata": {},
   "outputs": [
    {
     "name": "stdout",
     "output_type": "stream",
     "text": [
      "es\n",
      "nl\n"
     ]
    }
   ],
   "source": [
    "text_to_translate = \"Hola, ¿cómo estás?\"\n",
    "target_language_code = 'en'\n",
    "print(detect(text_to_translate))\n",
    "print(detect(target_language_code))"
   ]
  },
  {
   "cell_type": "code",
   "execution_count": 23,
   "id": "c2abd02d-7f00-4bf2-8edc-e6a40765bb47",
   "metadata": {},
   "outputs": [
    {
     "data": {
      "text/plain": [
       "[fi:0.7142823569955612, pl:0.14286050635464329, cy:0.14285573938927124]"
      ]
     },
     "execution_count": 23,
     "metadata": {},
     "output_type": "execute_result"
    }
   ],
   "source": [
    "detect_langs(\"Otec matka syn.\")"
   ]
  },
  {
   "cell_type": "code",
   "execution_count": 31,
   "id": "001616e1-c0b8-44f1-98a6-a4e5e5568298",
   "metadata": {},
   "outputs": [
    {
     "data": {
      "text/plain": [
       "'Hello, how are you?'"
      ]
     },
     "execution_count": 31,
     "metadata": {},
     "output_type": "execute_result"
    }
   ],
   "source": [
    "translator = Translator(to_lang='en', from_lang='es')\n",
    "translated_text = translator.translate(text_to_translate)\n",
    "translated_text"
   ]
  },
  {
   "cell_type": "code",
   "execution_count": 37,
   "id": "2085604d-90c9-46c7-846c-f25a333282ed",
   "metadata": {},
   "outputs": [
    {
     "data": {
      "text/plain": [
       "'Exelente boy camino del travajo y tu que haces princesa hermosa'"
      ]
     },
     "execution_count": 37,
     "metadata": {},
     "output_type": "execute_result"
    }
   ],
   "source": [
    "translator = Translator(to_lang='es', from_lang='en')\n",
    "translated_text2 = translator.translate(text_to_translate)\n",
    "translated_text2"
   ]
  },
  {
   "cell_type": "code",
   "execution_count": 33,
   "id": "f92294a5-bd0e-4af8-8055-1b7faea520ec",
   "metadata": {},
   "outputs": [],
   "source": [
    "def detect_and_translate(text, target_language='en'):\n",
    "    try:\n",
    "        source_language = detect(text)\n",
    "\n",
    "        translator = Translator(to_lang=target_language, from_lang=source_language)\n",
    "        translated_text = translator.translate(text)\n",
    "\n",
    "        return source_language, translated_text\n",
    "\n",
    "    except Exception as e:\n",
    "        print(f\"Error: {e}\")\n",
    "        return None, None\n"
   ]
  },
  {
   "cell_type": "code",
   "execution_count": 38,
   "id": "acc9e09c-f2d0-4409-a137-9582bbb6ad86",
   "metadata": {},
   "outputs": [
    {
     "name": "stdout",
     "output_type": "stream",
     "text": [
      "Source Language: es\n",
      "Translated Text: Hola, ¿cómo estás?\n"
     ]
    }
   ],
   "source": [
    "source_language, translated_text = detect_and_translate(translated_text2, target_language='en')\n",
    "\n",
    "if source_language and translated_text:\n",
    "    print(f\"Source Language: {source_language}\")\n",
    "    print(f\"Translated Text: {translated_text}\")\n",
    "else:\n",
    "    print(\"Language detection and translation failed.\")\n"
   ]
  },
  {
   "cell_type": "code",
   "execution_count": null,
   "id": "47c9665a-c0fc-43bb-8a17-b7cf833f1442",
   "metadata": {},
   "outputs": [],
   "source": []
  },
  {
   "cell_type": "code",
   "execution_count": null,
   "id": "fb31acd6-99e5-4ca9-aaca-43e8a8a3f24d",
   "metadata": {},
   "outputs": [],
   "source": []
  }
 ],
 "metadata": {
  "kernelspec": {
   "display_name": "Python 3 (ipykernel)",
   "language": "python",
   "name": "python3"
  },
  "language_info": {
   "codemirror_mode": {
    "name": "ipython",
    "version": 3
   },
   "file_extension": ".py",
   "mimetype": "text/x-python",
   "name": "python",
   "nbconvert_exporter": "python",
   "pygments_lexer": "ipython3",
   "version": "3.11.5"
  }
 },
 "nbformat": 4,
 "nbformat_minor": 5
}
